{
 "cells": [
  {
   "cell_type": "code",
   "execution_count": 1,
   "metadata": {},
   "outputs": [],
   "source": [
    "import pandas as pd\n"
   ]
  },
  {
   "cell_type": "code",
   "execution_count": 2,
   "metadata": {},
   "outputs": [],
   "source": [
    "df = pd.read_csv('btc_eth_data.csv')"
   ]
  },
  {
   "cell_type": "code",
   "execution_count": 3,
   "metadata": {},
   "outputs": [],
   "source": [
    "import seaborn as sns"
   ]
  },
  {
   "cell_type": "code",
   "execution_count": 4,
   "metadata": {},
   "outputs": [
    {
     "data": {
      "text/html": [
       "<div>\n",
       "<style scoped>\n",
       "    .dataframe tbody tr th:only-of-type {\n",
       "        vertical-align: middle;\n",
       "    }\n",
       "\n",
       "    .dataframe tbody tr th {\n",
       "        vertical-align: top;\n",
       "    }\n",
       "\n",
       "    .dataframe thead th {\n",
       "        text-align: right;\n",
       "    }\n",
       "</style>\n",
       "<table border=\"1\" class=\"dataframe\">\n",
       "  <thead>\n",
       "    <tr style=\"text-align: right;\">\n",
       "      <th></th>\n",
       "      <th>BTCUSDT</th>\n",
       "      <th>ETHUSDT</th>\n",
       "    </tr>\n",
       "  </thead>\n",
       "  <tbody>\n",
       "    <tr>\n",
       "      <th>BTCUSDT</th>\n",
       "      <td>1.000000</td>\n",
       "      <td>0.867429</td>\n",
       "    </tr>\n",
       "    <tr>\n",
       "      <th>ETHUSDT</th>\n",
       "      <td>0.867429</td>\n",
       "      <td>1.000000</td>\n",
       "    </tr>\n",
       "  </tbody>\n",
       "</table>\n",
       "</div>"
      ],
      "text/plain": [
       "          BTCUSDT   ETHUSDT\n",
       "BTCUSDT  1.000000  0.867429\n",
       "ETHUSDT  0.867429  1.000000"
      ]
     },
     "execution_count": 4,
     "metadata": {},
     "output_type": "execute_result"
    }
   ],
   "source": [
    "corr_matrix = df.corr(numeric_only=True)\n",
    "corr_matrix"
   ]
  },
  {
   "cell_type": "code",
   "execution_count": 7,
   "metadata": {},
   "outputs": [
    {
     "data": {
      "image/png": "[encoded data removed]",
      "text/plain": [
       "<Figure size 640x480 with 2 Axes>"
      ]
     },
     "metadata": {},
     "output_type": "display_data"
    }
   ],
   "source": [
    "import matplotlib.pyplot as plt\n",
    "sns.heatmap(corr_matrix, annot=True, cmap='coolwarm')\n",
    "plt.show()"
   ]
  },
  {
   "cell_type": "code",
   "execution_count": 8,
   "metadata": {},
   "outputs": [
    {
     "data": {
      "text/html": [
       "<div>\n",
       "<style scoped>\n",
       "    .dataframe tbody tr th:only-of-type {\n",
       "        vertical-align: middle;\n",
       "    }\n",
       "\n",
       "    .dataframe tbody tr th {\n",
       "        vertical-align: top;\n",
       "    }\n",
       "\n",
       "    .dataframe thead th {\n",
       "        text-align: right;\n",
       "    }\n",
       "</style>\n",
       "<table border=\"1\" class=\"dataframe\">\n",
       "  <thead>\n",
       "    <tr style=\"text-align: right;\">\n",
       "      <th></th>\n",
       "      <th>BTCUSDT</th>\n",
       "      <th>ETHUSDT</th>\n",
       "    </tr>\n",
       "  </thead>\n",
       "  <tbody>\n",
       "    <tr>\n",
       "      <th>count</th>\n",
       "      <td>731.000000</td>\n",
       "      <td>731.000000</td>\n",
       "    </tr>\n",
       "    <tr>\n",
       "      <th>mean</th>\n",
       "      <td>35564.741696</td>\n",
       "      <td>2386.533434</td>\n",
       "    </tr>\n",
       "    <tr>\n",
       "      <th>std</th>\n",
       "      <td>14218.957542</td>\n",
       "      <td>981.754210</td>\n",
       "    </tr>\n",
       "    <tr>\n",
       "      <th>min</th>\n",
       "      <td>15781.290000</td>\n",
       "      <td>995.130000</td>\n",
       "    </tr>\n",
       "    <tr>\n",
       "      <th>25%</th>\n",
       "      <td>21522.365000</td>\n",
       "      <td>1566.150000</td>\n",
       "    </tr>\n",
       "    <tr>\n",
       "      <th>50%</th>\n",
       "      <td>36244.550000</td>\n",
       "      <td>2161.120000</td>\n",
       "    </tr>\n",
       "    <tr>\n",
       "      <th>75%</th>\n",
       "      <td>46630.870000</td>\n",
       "      <td>3131.035000</td>\n",
       "    </tr>\n",
       "    <tr>\n",
       "      <th>max</th>\n",
       "      <td>67525.830000</td>\n",
       "      <td>4807.980000</td>\n",
       "    </tr>\n",
       "  </tbody>\n",
       "</table>\n",
       "</div>"
      ],
      "text/plain": [
       "            BTCUSDT      ETHUSDT\n",
       "count    731.000000   731.000000\n",
       "mean   35564.741696  2386.533434\n",
       "std    14218.957542   981.754210\n",
       "min    15781.290000   995.130000\n",
       "25%    21522.365000  1566.150000\n",
       "50%    36244.550000  2161.120000\n",
       "75%    46630.870000  3131.035000\n",
       "max    67525.830000  4807.980000"
      ]
     },
     "execution_count": 8,
     "metadata": {},
     "output_type": "execute_result"
    }
   ],
   "source": [
    "df.describe()"
   ]
  },
  {
   "cell_type": "code",
   "execution_count": 13,
   "metadata": {},
   "outputs": [
    {
     "data": {
      "text/html": [
       "<div>\n",
       "<style scoped>\n",
       "    .dataframe tbody tr th:only-of-type {\n",
       "        vertical-align: middle;\n",
       "    }\n",
       "\n",
       "    .dataframe tbody tr th {\n",
       "        vertical-align: top;\n",
       "    }\n",
       "\n",
       "    .dataframe thead th {\n",
       "        text-align: right;\n",
       "    }\n",
       "</style>\n",
       "<table border=\"1\" class=\"dataframe\">\n",
       "  <thead>\n",
       "    <tr style=\"text-align: right;\">\n",
       "      <th></th>\n",
       "      <th>timestamp</th>\n",
       "      <th>BTCUSDT</th>\n",
       "      <th>ETHUSDT</th>\n",
       "    </tr>\n",
       "  </thead>\n",
       "  <tbody>\n",
       "    <tr>\n",
       "      <th>0</th>\n",
       "      <td>2021-03-18</td>\n",
       "      <td>57648.16</td>\n",
       "      <td>1776.08</td>\n",
       "    </tr>\n",
       "    <tr>\n",
       "      <th>1</th>\n",
       "      <td>2021-03-19</td>\n",
       "      <td>58030.01</td>\n",
       "      <td>1809.10</td>\n",
       "    </tr>\n",
       "    <tr>\n",
       "      <th>2</th>\n",
       "      <td>2021-03-20</td>\n",
       "      <td>58102.28</td>\n",
       "      <td>1806.10</td>\n",
       "    </tr>\n",
       "    <tr>\n",
       "      <th>3</th>\n",
       "      <td>2021-03-21</td>\n",
       "      <td>57351.56</td>\n",
       "      <td>1782.98</td>\n",
       "    </tr>\n",
       "    <tr>\n",
       "      <th>4</th>\n",
       "      <td>2021-03-22</td>\n",
       "      <td>54083.25</td>\n",
       "      <td>1680.97</td>\n",
       "    </tr>\n",
       "    <tr>\n",
       "      <th>...</th>\n",
       "      <td>...</td>\n",
       "      <td>...</td>\n",
       "      <td>...</td>\n",
       "    </tr>\n",
       "    <tr>\n",
       "      <th>726</th>\n",
       "      <td>2023-03-14</td>\n",
       "      <td>24670.41</td>\n",
       "      <td>1699.40</td>\n",
       "    </tr>\n",
       "    <tr>\n",
       "      <th>727</th>\n",
       "      <td>2023-03-15</td>\n",
       "      <td>24285.66</td>\n",
       "      <td>1649.96</td>\n",
       "    </tr>\n",
       "    <tr>\n",
       "      <th>728</th>\n",
       "      <td>2023-03-16</td>\n",
       "      <td>24998.78</td>\n",
       "      <td>1673.73</td>\n",
       "    </tr>\n",
       "    <tr>\n",
       "      <th>729</th>\n",
       "      <td>2023-03-17</td>\n",
       "      <td>27395.13</td>\n",
       "      <td>1789.27</td>\n",
       "    </tr>\n",
       "    <tr>\n",
       "      <th>730</th>\n",
       "      <td>2023-03-18</td>\n",
       "      <td>27360.85</td>\n",
       "      <td>1811.27</td>\n",
       "    </tr>\n",
       "  </tbody>\n",
       "</table>\n",
       "<p>731 rows × 3 columns</p>\n",
       "</div>"
      ],
      "text/plain": [
       "      timestamp   BTCUSDT  ETHUSDT\n",
       "0    2021-03-18  57648.16  1776.08\n",
       "1    2021-03-19  58030.01  1809.10\n",
       "2    2021-03-20  58102.28  1806.10\n",
       "3    2021-03-21  57351.56  1782.98\n",
       "4    2021-03-22  54083.25  1680.97\n",
       "..          ...       ...      ...\n",
       "726  2023-03-14  24670.41  1699.40\n",
       "727  2023-03-15  24285.66  1649.96\n",
       "728  2023-03-16  24998.78  1673.73\n",
       "729  2023-03-17  27395.13  1789.27\n",
       "730  2023-03-18  27360.85  1811.27\n",
       "\n",
       "[731 rows x 3 columns]"
      ]
     },
     "execution_count": 13,
     "metadata": {},
     "output_type": "execute_result"
    }
   ],
   "source": [
    "df"
   ]
  },
  {
   "cell_type": "code",
   "execution_count": 14,
   "metadata": {},
   "outputs": [
    {
     "data": {
      "image/png": "[encoded data removed]",
      "text/plain": [
       "<Figure size 640x480 with 1 Axes>"
      ]
     },
     "metadata": {},
     "output_type": "display_data"
    }
   ],
   "source": [
    "import pandas as pd\n",
    "import matplotlib.pyplot as plt\n",
    "\n",
    "\n",
    "\n",
    "# Convert the date column to a datetime object\n",
    "df['date'] = pd.to_datetime(df['timestamp'])\n",
    "\n",
    "# Set the date column as the index\n",
    "df.set_index('date', inplace=True)\n",
    "\n",
    "# Plot the close prices\n",
    "df.plot()\n",
    "\n",
    "# Set the plot title and axis labels\n",
    "plt.title('Close Prices')\n",
    "plt.xlabel('Date')\n",
    "plt.ylabel('Price')\n",
    "\n",
    "# Show the plot\n",
    "plt.show()\n"
   ]
  },
  {
   "attachments": {},
   "cell_type": "markdown",
   "metadata": {},
   "source": [
    "NORMALISER"
   ]
  },
  {
   "cell_type": "code",
   "execution_count": 18,
   "metadata": {},
   "outputs": [],
   "source": [
    "from sklearn.preprocessing import MinMaxScaler"
   ]
  },
  {
   "cell_type": "code",
   "execution_count": 28,
   "metadata": {},
   "outputs": [],
   "source": [
    "import pandas as pd\n",
    "from sklearn.preprocessing import MinMaxScaler\n",
    "\n",
    "scaler = MinMaxScaler()\n",
    "\n",
    "df['BTCUSDT_NORM'] = scaler.fit_transform(df[['BTCUSDT']])\n",
    "df['ETHUSDT_NORM'] = scaler.fit_transform(df[['ETHUSDT']])\n",
    "\n"
   ]
  },
  {
   "cell_type": "code",
   "execution_count": 36,
   "metadata": {},
   "outputs": [],
   "source": [
    "df = df.drop('timestamp', axis=1 )"
   ]
  },
  {
   "cell_type": "code",
   "execution_count": 37,
   "metadata": {},
   "outputs": [
    {
     "data": {
      "text/html": [
       "<div>\n",
       "<style scoped>\n",
       "    .dataframe tbody tr th:only-of-type {\n",
       "        vertical-align: middle;\n",
       "    }\n",
       "\n",
       "    .dataframe tbody tr th {\n",
       "        vertical-align: top;\n",
       "    }\n",
       "\n",
       "    .dataframe thead th {\n",
       "        text-align: right;\n",
       "    }\n",
       "</style>\n",
       "<table border=\"1\" class=\"dataframe\">\n",
       "  <thead>\n",
       "    <tr style=\"text-align: right;\">\n",
       "      <th></th>\n",
       "      <th>BTCUSDT</th>\n",
       "      <th>ETHUSDT</th>\n",
       "      <th>BTCUSDT_NORM</th>\n",
       "      <th>ETHUSDT_NORM</th>\n",
       "    </tr>\n",
       "    <tr>\n",
       "      <th>date</th>\n",
       "      <th></th>\n",
       "      <th></th>\n",
       "      <th></th>\n",
       "      <th></th>\n",
       "    </tr>\n",
       "  </thead>\n",
       "  <tbody>\n",
       "    <tr>\n",
       "      <th>2021-03-18</th>\n",
       "      <td>57648.16</td>\n",
       "      <td>1776.08</td>\n",
       "      <td>0.809107</td>\n",
       "      <td>0.204821</td>\n",
       "    </tr>\n",
       "    <tr>\n",
       "      <th>2021-03-19</th>\n",
       "      <td>58030.01</td>\n",
       "      <td>1809.10</td>\n",
       "      <td>0.816487</td>\n",
       "      <td>0.213481</td>\n",
       "    </tr>\n",
       "    <tr>\n",
       "      <th>2021-03-20</th>\n",
       "      <td>58102.28</td>\n",
       "      <td>1806.10</td>\n",
       "      <td>0.817883</td>\n",
       "      <td>0.212694</td>\n",
       "    </tr>\n",
       "    <tr>\n",
       "      <th>2021-03-21</th>\n",
       "      <td>57351.56</td>\n",
       "      <td>1782.98</td>\n",
       "      <td>0.803375</td>\n",
       "      <td>0.206630</td>\n",
       "    </tr>\n",
       "    <tr>\n",
       "      <th>2021-03-22</th>\n",
       "      <td>54083.25</td>\n",
       "      <td>1680.97</td>\n",
       "      <td>0.740213</td>\n",
       "      <td>0.179876</td>\n",
       "    </tr>\n",
       "    <tr>\n",
       "      <th>...</th>\n",
       "      <td>...</td>\n",
       "      <td>...</td>\n",
       "      <td>...</td>\n",
       "      <td>...</td>\n",
       "    </tr>\n",
       "    <tr>\n",
       "      <th>2023-03-14</th>\n",
       "      <td>24670.41</td>\n",
       "      <td>1699.40</td>\n",
       "      <td>0.171789</td>\n",
       "      <td>0.184710</td>\n",
       "    </tr>\n",
       "    <tr>\n",
       "      <th>2023-03-15</th>\n",
       "      <td>24285.66</td>\n",
       "      <td>1649.96</td>\n",
       "      <td>0.164353</td>\n",
       "      <td>0.171743</td>\n",
       "    </tr>\n",
       "    <tr>\n",
       "      <th>2023-03-16</th>\n",
       "      <td>24998.78</td>\n",
       "      <td>1673.73</td>\n",
       "      <td>0.178135</td>\n",
       "      <td>0.177977</td>\n",
       "    </tr>\n",
       "    <tr>\n",
       "      <th>2023-03-17</th>\n",
       "      <td>27395.13</td>\n",
       "      <td>1789.27</td>\n",
       "      <td>0.224446</td>\n",
       "      <td>0.208280</td>\n",
       "    </tr>\n",
       "    <tr>\n",
       "      <th>2023-03-18</th>\n",
       "      <td>27360.85</td>\n",
       "      <td>1811.27</td>\n",
       "      <td>0.223783</td>\n",
       "      <td>0.214050</td>\n",
       "    </tr>\n",
       "  </tbody>\n",
       "</table>\n",
       "<p>731 rows × 4 columns</p>\n",
       "</div>"
      ],
      "text/plain": [
       "             BTCUSDT  ETHUSDT  BTCUSDT_NORM  ETHUSDT_NORM\n",
       "date                                                     \n",
       "2021-03-18  57648.16  1776.08      0.809107      0.204821\n",
       "2021-03-19  58030.01  1809.10      0.816487      0.213481\n",
       "2021-03-20  58102.28  1806.10      0.817883      0.212694\n",
       "2021-03-21  57351.56  1782.98      0.803375      0.206630\n",
       "2021-03-22  54083.25  1680.97      0.740213      0.179876\n",
       "...              ...      ...           ...           ...\n",
       "2023-03-14  24670.41  1699.40      0.171789      0.184710\n",
       "2023-03-15  24285.66  1649.96      0.164353      0.171743\n",
       "2023-03-16  24998.78  1673.73      0.178135      0.177977\n",
       "2023-03-17  27395.13  1789.27      0.224446      0.208280\n",
       "2023-03-18  27360.85  1811.27      0.223783      0.214050\n",
       "\n",
       "[731 rows x 4 columns]"
      ]
     },
     "execution_count": 37,
     "metadata": {},
     "output_type": "execute_result"
    }
   ],
   "source": [
    "df"
   ]
  },
  {
   "cell_type": "code",
   "execution_count": 47,
   "metadata": {},
   "outputs": [],
   "source": [
    "df_norm = df.drop(['BTCUSDT', 'ETHUSDT'] , axis = 1)"
   ]
  },
  {
   "cell_type": "code",
   "execution_count": 48,
   "metadata": {},
   "outputs": [
    {
     "data": {
      "text/html": [
       "<div>\n",
       "<style scoped>\n",
       "    .dataframe tbody tr th:only-of-type {\n",
       "        vertical-align: middle;\n",
       "    }\n",
       "\n",
       "    .dataframe tbody tr th {\n",
       "        vertical-align: top;\n",
       "    }\n",
       "\n",
       "    .dataframe thead th {\n",
       "        text-align: right;\n",
       "    }\n",
       "</style>\n",
       "<table border=\"1\" class=\"dataframe\">\n",
       "  <thead>\n",
       "    <tr style=\"text-align: right;\">\n",
       "      <th></th>\n",
       "      <th>BTCUSDT_NORM</th>\n",
       "      <th>ETHUSDT_NORM</th>\n",
       "    </tr>\n",
       "    <tr>\n",
       "      <th>date</th>\n",
       "      <th></th>\n",
       "      <th></th>\n",
       "    </tr>\n",
       "  </thead>\n",
       "  <tbody>\n",
       "    <tr>\n",
       "      <th>2021-03-18</th>\n",
       "      <td>0.809107</td>\n",
       "      <td>0.204821</td>\n",
       "    </tr>\n",
       "    <tr>\n",
       "      <th>2021-03-19</th>\n",
       "      <td>0.816487</td>\n",
       "      <td>0.213481</td>\n",
       "    </tr>\n",
       "    <tr>\n",
       "      <th>2021-03-20</th>\n",
       "      <td>0.817883</td>\n",
       "      <td>0.212694</td>\n",
       "    </tr>\n",
       "    <tr>\n",
       "      <th>2021-03-21</th>\n",
       "      <td>0.803375</td>\n",
       "      <td>0.206630</td>\n",
       "    </tr>\n",
       "    <tr>\n",
       "      <th>2021-03-22</th>\n",
       "      <td>0.740213</td>\n",
       "      <td>0.179876</td>\n",
       "    </tr>\n",
       "    <tr>\n",
       "      <th>...</th>\n",
       "      <td>...</td>\n",
       "      <td>...</td>\n",
       "    </tr>\n",
       "    <tr>\n",
       "      <th>2023-03-14</th>\n",
       "      <td>0.171789</td>\n",
       "      <td>0.184710</td>\n",
       "    </tr>\n",
       "    <tr>\n",
       "      <th>2023-03-15</th>\n",
       "      <td>0.164353</td>\n",
       "      <td>0.171743</td>\n",
       "    </tr>\n",
       "    <tr>\n",
       "      <th>2023-03-16</th>\n",
       "      <td>0.178135</td>\n",
       "      <td>0.177977</td>\n",
       "    </tr>\n",
       "    <tr>\n",
       "      <th>2023-03-17</th>\n",
       "      <td>0.224446</td>\n",
       "      <td>0.208280</td>\n",
       "    </tr>\n",
       "    <tr>\n",
       "      <th>2023-03-18</th>\n",
       "      <td>0.223783</td>\n",
       "      <td>0.214050</td>\n",
       "    </tr>\n",
       "  </tbody>\n",
       "</table>\n",
       "<p>731 rows × 2 columns</p>\n",
       "</div>"
      ],
      "text/plain": [
       "            BTCUSDT_NORM  ETHUSDT_NORM\n",
       "date                                  \n",
       "2021-03-18      0.809107      0.204821\n",
       "2021-03-19      0.816487      0.213481\n",
       "2021-03-20      0.817883      0.212694\n",
       "2021-03-21      0.803375      0.206630\n",
       "2021-03-22      0.740213      0.179876\n",
       "...                  ...           ...\n",
       "2023-03-14      0.171789      0.184710\n",
       "2023-03-15      0.164353      0.171743\n",
       "2023-03-16      0.178135      0.177977\n",
       "2023-03-17      0.224446      0.208280\n",
       "2023-03-18      0.223783      0.214050\n",
       "\n",
       "[731 rows x 2 columns]"
      ]
     },
     "execution_count": 48,
     "metadata": {},
     "output_type": "execute_result"
    }
   ],
   "source": [
    "df_norm"
   ]
  },
  {
   "cell_type": "code",
   "execution_count": 51,
   "metadata": {},
   "outputs": [
    {
     "data": {
      "text/plain": [
       "<Axes: xlabel='date'>"
      ]
     },
     "execution_count": 51,
     "metadata": {},
     "output_type": "execute_result"
    },
    {
     "data": {
      "image/png": "[encoded data removed]",
      "text/plain": [
       "<Figure size 640x480 with 1 Axes>"
      ]
     },
     "metadata": {},
     "output_type": "display_data"
    }
   ],
   "source": [
    "df_norm.plot()"
   ]
  },
  {
   "cell_type": "code",
   "execution_count": 52,
   "metadata": {},
   "outputs": [
    {
     "data": {
      "text/html": [
       "<div>\n",
       "<style scoped>\n",
       "    .dataframe tbody tr th:only-of-type {\n",
       "        vertical-align: middle;\n",
       "    }\n",
       "\n",
       "    .dataframe tbody tr th {\n",
       "        vertical-align: top;\n",
       "    }\n",
       "\n",
       "    .dataframe thead th {\n",
       "        text-align: right;\n",
       "    }\n",
       "</style>\n",
       "<table border=\"1\" class=\"dataframe\">\n",
       "  <thead>\n",
       "    <tr style=\"text-align: right;\">\n",
       "      <th></th>\n",
       "      <th>BTCUSDT_NORM</th>\n",
       "      <th>ETHUSDT_NORM</th>\n",
       "    </tr>\n",
       "  </thead>\n",
       "  <tbody>\n",
       "    <tr>\n",
       "      <th>BTCUSDT_NORM</th>\n",
       "      <td>1.000000</td>\n",
       "      <td>0.867429</td>\n",
       "    </tr>\n",
       "    <tr>\n",
       "      <th>ETHUSDT_NORM</th>\n",
       "      <td>0.867429</td>\n",
       "      <td>1.000000</td>\n",
       "    </tr>\n",
       "  </tbody>\n",
       "</table>\n",
       "</div>"
      ],
      "text/plain": [
       "              BTCUSDT_NORM  ETHUSDT_NORM\n",
       "BTCUSDT_NORM      1.000000      0.867429\n",
       "ETHUSDT_NORM      0.867429      1.000000"
      ]
     },
     "execution_count": 52,
     "metadata": {},
     "output_type": "execute_result"
    }
   ],
   "source": [
    "corr2_matrix = df_norm.corr(numeric_only=True)\n",
    "corr2_matrix"
   ]
  },
  {
   "cell_type": "code",
   "execution_count": 56,
   "metadata": {},
   "outputs": [
    {
     "name": "stdout",
     "output_type": "stream",
     "text": [
      "Cointegration test score:  -4.89049850348501\n",
      "p-value:  0.0002604071299380927\n"
     ]
    }
   ],
   "source": [
    "from statsmodels.tsa.stattools import coint\n",
    "\n",
    "# Load data for the two pairs\n",
    "pair1 = df_norm['BTCUSDT_NORM']\n",
    "pair2 = df_norm['ETHUSDT_NORM']\n",
    "\n",
    "# Compute the cointegration test\n",
    "score, pvalue, _ = coint(pair1, pair2)\n",
    "\n",
    "# Print the results\n",
    "print(\"Cointegration test score: \", score)\n",
    "print(\"p-value: \", pvalue)\n"
   ]
  },
  {
   "cell_type": "code",
   "execution_count": 58,
   "metadata": {},
   "outputs": [
    {
     "name": "stdout",
     "output_type": "stream",
     "text": [
      "Cointegration test score:  -4.89049850348501\n",
      "p-value:  0.0002604071299380927\n"
     ]
    }
   ],
   "source": [
    "from statsmodels.tsa.stattools import coint\n",
    "\n",
    "# Load data for the two pairs\n",
    "pair1c = df['BTCUSDT']\n",
    "pair2c = df['ETHUSDT']\n",
    "\n",
    "# Compute the cointegration test\n",
    "score2, pvalue2, _ = coint(pair1c, pair2c)\n",
    "\n",
    "# Print the results\n",
    "print(\"Cointegration test score: \", score2)\n",
    "print(\"p-value: \", pvalue2)\n"
   ]
  }
 ],
 "metadata": {
  "kernelspec": {
   "display_name": ".venv",
   "language": "python",
   "name": "python3"
  },
  "language_info": {
   "codemirror_mode": {
    "name": "ipython",
    "version": 3
   },
   "file_extension": ".py",
   "mimetype": "text/x-python",
   "name": "python",
   "nbconvert_exporter": "python",
   "pygments_lexer": "ipython3",
   "version": "3.9.7"
  },
  "orig_nbformat": 4,
  "vscode": {
   "interpreter": {
    "hash": "376b054bc3a223bad02741d7136823bf07cb5fa24a35865a3693cead372fa608"
   }
  }
 },
 "nbformat": 4,
 "nbformat_minor": 2
}
