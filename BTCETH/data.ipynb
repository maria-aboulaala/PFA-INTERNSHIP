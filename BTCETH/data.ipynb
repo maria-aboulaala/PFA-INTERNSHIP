{
 "cells": [
  {
   "cell_type": "code",
   "execution_count": 28,
   "metadata": {},
   "outputs": [],
   "source": [
    "from binance.client import Client"
   ]
  },
  {
   "cell_type": "code",
   "execution_count": 29,
   "metadata": {},
   "outputs": [],
   "source": [
    "api_key = \"oaC26VRtbUGCw4uLXukpPcwuOHjarI37psYKKwBUQXf1ysr4wewQGWgJbDzCiZnn\"\n",
    "api_secret = \"gpQU2LK785lCoqPfDLAEdqT6ka2k2Y8P1gEiySa0zKHMVSFQmeWbdNyqC3rxQoX7\"\n",
    "client = Client(api_key, api_secret)"
   ]
  },
  {
   "cell_type": "code",
   "execution_count": 30,
   "metadata": {},
   "outputs": [],
   "source": [
    "symbols = ['BTCUSDT', 'ETHUSDT']\n",
    "interval = Client.KLINE_INTERVAL_1DAY"
   ]
  },
  {
   "cell_type": "code",
   "execution_count": 31,
   "metadata": {},
   "outputs": [],
   "source": [
    "import pandas as pd\n",
    "end_date = pd.Timestamp.today()\n",
    "start_date = end_date - pd.Timedelta(days=2*365)"
   ]
  },
  {
   "cell_type": "code",
   "execution_count": 32,
   "metadata": {},
   "outputs": [],
   "source": [
    "data = []\n",
    "\n",
    "for symbol in symbols:\n",
    "    klines = client.get_historical_klines(symbol, Client.KLINE_INTERVAL_1DAY, start_date.strftime(\"%d %b %Y\"), end_date.strftime(\"%d %b %Y\"))\n",
    "    df = pd.DataFrame(klines, columns=['timestamp', 'open', 'high', 'low', 'close', 'volume', 'close_time', 'quote_asset_volume', 'number_of_trades', 'taker_buy_base_asset_volume', 'taker_buy_quote_asset_volume', 'ignore'])\n",
    "    df = df[['timestamp', 'close']]\n",
    "    df['timestamp'] = pd.to_datetime(df['timestamp'], unit='ms')\n",
    "    df.set_index('timestamp', inplace=True)\n",
    "    df.columns = [symbol]\n",
    "    data.append(df)\n"
   ]
  },
  {
   "cell_type": "code",
   "execution_count": 34,
   "metadata": {},
   "outputs": [],
   "source": [
    "df = pd.concat(data, axis=1)"
   ]
  },
  {
   "cell_type": "code",
   "execution_count": 35,
   "metadata": {},
   "outputs": [
    {
     "data": {
      "text/html": [
       "<div>\n",
       "<style scoped>\n",
       "    .dataframe tbody tr th:only-of-type {\n",
       "        vertical-align: middle;\n",
       "    }\n",
       "\n",
       "    .dataframe tbody tr th {\n",
       "        vertical-align: top;\n",
       "    }\n",
       "\n",
       "    .dataframe thead th {\n",
       "        text-align: right;\n",
       "    }\n",
       "</style>\n",
       "<table border=\"1\" class=\"dataframe\">\n",
       "  <thead>\n",
       "    <tr style=\"text-align: right;\">\n",
       "      <th></th>\n",
       "      <th>BTCUSDT</th>\n",
       "      <th>ETHUSDT</th>\n",
       "    </tr>\n",
       "    <tr>\n",
       "      <th>timestamp</th>\n",
       "      <th></th>\n",
       "      <th></th>\n",
       "    </tr>\n",
       "  </thead>\n",
       "  <tbody>\n",
       "    <tr>\n",
       "      <th>2021-03-18</th>\n",
       "      <td>57648.16000000</td>\n",
       "      <td>1776.08000000</td>\n",
       "    </tr>\n",
       "    <tr>\n",
       "      <th>2021-03-19</th>\n",
       "      <td>58030.01000000</td>\n",
       "      <td>1809.10000000</td>\n",
       "    </tr>\n",
       "    <tr>\n",
       "      <th>2021-03-20</th>\n",
       "      <td>58102.28000000</td>\n",
       "      <td>1806.10000000</td>\n",
       "    </tr>\n",
       "    <tr>\n",
       "      <th>2021-03-21</th>\n",
       "      <td>57351.56000000</td>\n",
       "      <td>1782.98000000</td>\n",
       "    </tr>\n",
       "    <tr>\n",
       "      <th>2021-03-22</th>\n",
       "      <td>54083.25000000</td>\n",
       "      <td>1680.97000000</td>\n",
       "    </tr>\n",
       "    <tr>\n",
       "      <th>...</th>\n",
       "      <td>...</td>\n",
       "      <td>...</td>\n",
       "    </tr>\n",
       "    <tr>\n",
       "      <th>2023-03-14</th>\n",
       "      <td>24670.41000000</td>\n",
       "      <td>1699.40000000</td>\n",
       "    </tr>\n",
       "    <tr>\n",
       "      <th>2023-03-15</th>\n",
       "      <td>24285.66000000</td>\n",
       "      <td>1649.96000000</td>\n",
       "    </tr>\n",
       "    <tr>\n",
       "      <th>2023-03-16</th>\n",
       "      <td>24998.78000000</td>\n",
       "      <td>1673.73000000</td>\n",
       "    </tr>\n",
       "    <tr>\n",
       "      <th>2023-03-17</th>\n",
       "      <td>27395.13000000</td>\n",
       "      <td>1789.27000000</td>\n",
       "    </tr>\n",
       "    <tr>\n",
       "      <th>2023-03-18</th>\n",
       "      <td>27360.85000000</td>\n",
       "      <td>1811.27000000</td>\n",
       "    </tr>\n",
       "  </tbody>\n",
       "</table>\n",
       "<p>731 rows × 2 columns</p>\n",
       "</div>"
      ],
      "text/plain": [
       "                   BTCUSDT        ETHUSDT\n",
       "timestamp                                \n",
       "2021-03-18  57648.16000000  1776.08000000\n",
       "2021-03-19  58030.01000000  1809.10000000\n",
       "2021-03-20  58102.28000000  1806.10000000\n",
       "2021-03-21  57351.56000000  1782.98000000\n",
       "2021-03-22  54083.25000000  1680.97000000\n",
       "...                    ...            ...\n",
       "2023-03-14  24670.41000000  1699.40000000\n",
       "2023-03-15  24285.66000000  1649.96000000\n",
       "2023-03-16  24998.78000000  1673.73000000\n",
       "2023-03-17  27395.13000000  1789.27000000\n",
       "2023-03-18  27360.85000000  1811.27000000\n",
       "\n",
       "[731 rows x 2 columns]"
      ]
     },
     "execution_count": 35,
     "metadata": {},
     "output_type": "execute_result"
    }
   ],
   "source": [
    "df"
   ]
  },
  {
   "cell_type": "code",
   "execution_count": 36,
   "metadata": {},
   "outputs": [],
   "source": [
    "df.to_csv('btc_eth_data.csv')"
   ]
  },
  {
   "cell_type": "code",
   "execution_count": 37,
   "metadata": {},
   "outputs": [
    {
     "data": {
      "text/html": [
       "<div>\n",
       "<style scoped>\n",
       "    .dataframe tbody tr th:only-of-type {\n",
       "        vertical-align: middle;\n",
       "    }\n",
       "\n",
       "    .dataframe tbody tr th {\n",
       "        vertical-align: top;\n",
       "    }\n",
       "\n",
       "    .dataframe thead th {\n",
       "        text-align: right;\n",
       "    }\n",
       "</style>\n",
       "<table border=\"1\" class=\"dataframe\">\n",
       "  <thead>\n",
       "    <tr style=\"text-align: right;\">\n",
       "      <th></th>\n",
       "      <th>timestamp</th>\n",
       "      <th>BTCUSDT</th>\n",
       "      <th>ETHUSDT</th>\n",
       "    </tr>\n",
       "  </thead>\n",
       "  <tbody>\n",
       "    <tr>\n",
       "      <th>0</th>\n",
       "      <td>2021-03-18</td>\n",
       "      <td>57648.16</td>\n",
       "      <td>1776.08</td>\n",
       "    </tr>\n",
       "    <tr>\n",
       "      <th>1</th>\n",
       "      <td>2021-03-19</td>\n",
       "      <td>58030.01</td>\n",
       "      <td>1809.10</td>\n",
       "    </tr>\n",
       "    <tr>\n",
       "      <th>2</th>\n",
       "      <td>2021-03-20</td>\n",
       "      <td>58102.28</td>\n",
       "      <td>1806.10</td>\n",
       "    </tr>\n",
       "    <tr>\n",
       "      <th>3</th>\n",
       "      <td>2021-03-21</td>\n",
       "      <td>57351.56</td>\n",
       "      <td>1782.98</td>\n",
       "    </tr>\n",
       "    <tr>\n",
       "      <th>4</th>\n",
       "      <td>2021-03-22</td>\n",
       "      <td>54083.25</td>\n",
       "      <td>1680.97</td>\n",
       "    </tr>\n",
       "    <tr>\n",
       "      <th>...</th>\n",
       "      <td>...</td>\n",
       "      <td>...</td>\n",
       "      <td>...</td>\n",
       "    </tr>\n",
       "    <tr>\n",
       "      <th>726</th>\n",
       "      <td>2023-03-14</td>\n",
       "      <td>24670.41</td>\n",
       "      <td>1699.40</td>\n",
       "    </tr>\n",
       "    <tr>\n",
       "      <th>727</th>\n",
       "      <td>2023-03-15</td>\n",
       "      <td>24285.66</td>\n",
       "      <td>1649.96</td>\n",
       "    </tr>\n",
       "    <tr>\n",
       "      <th>728</th>\n",
       "      <td>2023-03-16</td>\n",
       "      <td>24998.78</td>\n",
       "      <td>1673.73</td>\n",
       "    </tr>\n",
       "    <tr>\n",
       "      <th>729</th>\n",
       "      <td>2023-03-17</td>\n",
       "      <td>27395.13</td>\n",
       "      <td>1789.27</td>\n",
       "    </tr>\n",
       "    <tr>\n",
       "      <th>730</th>\n",
       "      <td>2023-03-18</td>\n",
       "      <td>27360.85</td>\n",
       "      <td>1811.27</td>\n",
       "    </tr>\n",
       "  </tbody>\n",
       "</table>\n",
       "<p>731 rows × 3 columns</p>\n",
       "</div>"
      ],
      "text/plain": [
       "      timestamp   BTCUSDT  ETHUSDT\n",
       "0    2021-03-18  57648.16  1776.08\n",
       "1    2021-03-19  58030.01  1809.10\n",
       "2    2021-03-20  58102.28  1806.10\n",
       "3    2021-03-21  57351.56  1782.98\n",
       "4    2021-03-22  54083.25  1680.97\n",
       "..          ...       ...      ...\n",
       "726  2023-03-14  24670.41  1699.40\n",
       "727  2023-03-15  24285.66  1649.96\n",
       "728  2023-03-16  24998.78  1673.73\n",
       "729  2023-03-17  27395.13  1789.27\n",
       "730  2023-03-18  27360.85  1811.27\n",
       "\n",
       "[731 rows x 3 columns]"
      ]
     },
     "execution_count": 37,
     "metadata": {},
     "output_type": "execute_result"
    }
   ],
   "source": [
    "pd.read_csv('btc_eth_data.csv')"
   ]
  }
 ],
 "metadata": {
  "kernelspec": {
   "display_name": ".venv",
   "language": "python",
   "name": "python3"
  },
  "language_info": {
   "codemirror_mode": {
    "name": "ipython",
    "version": 3
   },
   "file_extension": ".py",
   "mimetype": "text/x-python",
   "name": "python",
   "nbconvert_exporter": "python",
   "pygments_lexer": "ipython3",
   "version": "3.9.7 (default, Sep 16 2021, 08:50:36) \n[Clang 10.0.0 ]"
  },
  "orig_nbformat": 4,
  "vscode": {
   "interpreter": {
    "hash": "376b054bc3a223bad02741d7136823bf07cb5fa24a35865a3693cead372fa608"
   }
  }
 },
 "nbformat": 4,
 "nbformat_minor": 2
}
